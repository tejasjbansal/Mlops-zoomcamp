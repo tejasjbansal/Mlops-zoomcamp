{
 "cells": [
  {
   "cell_type": "markdown",
   "id": "07233daa",
   "metadata": {},
   "source": [
    "## Interacting with the MLflow tracking server\n",
    "The MlflowClient object allows us to interact with...\n",
    "\n",
    "an MLflow Tracking Server that creates and manages experiments and runs.\n",
    "an MLflow Registry Server that creates and manages registered models and model versions.\n",
    "To instantiate it we need to pass a tracking URI and/or a registry URI"
   ]
  },
  {
   "cell_type": "code",
   "execution_count": 1,
   "id": "131239f2",
   "metadata": {},
   "outputs": [],
   "source": [
    "from mlflow.tracking import MlflowClient\n",
    "\n",
    "mlflow_tracking_uri = \"sqlite:///mlflow.db\"\n",
    "\n",
    "client = MlflowClient(tracking_uri=mlflow_tracking_uri)"
   ]
  },
  {
   "cell_type": "code",
   "execution_count": 2,
   "id": "4484335b",
   "metadata": {},
   "outputs": [
    {
     "data": {
      "text/plain": [
       "'sqlite:///mlflow.db'"
      ]
     },
     "execution_count": 2,
     "metadata": {},
     "output_type": "execute_result"
    }
   ],
   "source": [
    "client.tracking_uri"
   ]
  },
  {
   "cell_type": "code",
   "execution_count": 3,
   "id": "867f29d5",
   "metadata": {},
   "outputs": [
    {
     "data": {
      "text/plain": [
       "[<Experiment: artifact_location='mlflow-artifacts:/1', creation_time=1720948382481, experiment_id='1', last_update_time=1720948382481, lifecycle_stage='active', name='nyc-taxi-experiment', tags={}>,\n",
       " <Experiment: artifact_location='mlflow-artifacts:/0', creation_time=1720948233631, experiment_id='0', last_update_time=1720948233631, lifecycle_stage='active', name='Default', tags={}>]"
      ]
     },
     "execution_count": 3,
     "metadata": {},
     "output_type": "execute_result"
    }
   ],
   "source": [
    "client.search_experiments()"
   ]
  },
  {
   "cell_type": "code",
   "execution_count": 4,
   "id": "cb333184",
   "metadata": {},
   "outputs": [],
   "source": [
    "from mlflow.entities import ViewType\n",
    "\n",
    "runs = client.search_runs(\n",
    "    experiment_ids=1,\n",
    "    filter_string=\"\",\n",
    "    run_view_type =ViewType.ACTIVE_ONLY ,\n",
    "    max_results = 5,\n",
    "    order_by=[\"metrics.rmse ASC\"]\n",
    "    \n",
    ")"
   ]
  },
  {
   "cell_type": "code",
   "execution_count": 5,
   "id": "3433933e",
   "metadata": {},
   "outputs": [
    {
     "name": "stdout",
     "output_type": "stream",
     "text": [
      "run id : 837733a73ab040faaa4ecff356fc5283,rmse :6.3071 \n",
      "run id : 19dda245c7df4764aad5f2456fd89e9a,rmse :6.7423 \n",
      "run id : c3464e4091ec4b68a2709351b256d00c,rmse :6.9036 \n",
      "run id : 0e740465f4a64fdaa97045af2de67b4b,rmse :6.9139 \n",
      "run id : 9d63f589d1104960a8c918a69d6480ec,rmse :804.5511 \n"
     ]
    }
   ],
   "source": [
    "for run in runs:\n",
    "    print(f\"run id : {run.info.run_id},rmse :{run.data.metrics['rmse']:.4f} \")"
   ]
  },
  {
   "cell_type": "markdown",
   "id": "984a6595",
   "metadata": {},
   "source": [
    "## Interacting with the Model Registry\n",
    "In this section We will use the MlflowClient instance to:\n",
    "\n",
    "Register a new version for the experiment nyc-taxi-regressor\n",
    "Retrieve the latests versions of the model nyc-taxi-regressor and check that a new version 3 was created.\n",
    "Transition the version 3 to \"Staging\" and adding annotations to it."
   ]
  },
  {
   "cell_type": "code",
   "execution_count": 18,
   "id": "b2e7e600",
   "metadata": {},
   "outputs": [
    {
     "data": {
      "text/plain": [
       "<Experiment: artifact_location='mlflow-artifacts:/1', creation_time=1720948382481, experiment_id='1', last_update_time=1720948382481, lifecycle_stage='active', name='nyc-taxi-experiment', tags={}>"
      ]
     },
     "execution_count": 18,
     "metadata": {},
     "output_type": "execute_result"
    }
   ],
   "source": [
    "import mlflow\n",
    "\n",
    "mlflow.set_tracking_uri(\"http://localhost:5000\")\n",
    "mlflow.set_experiment(\"nyc-taxi-experiment\")"
   ]
  },
  {
   "cell_type": "code",
   "execution_count": 7,
   "id": "3b5219a9",
   "metadata": {},
   "outputs": [
    {
     "name": "stderr",
     "output_type": "stream",
     "text": [
      "Registered model 'nyc-taxi-experiment' already exists. Creating a new version of this model...\n",
      "Created version '3' of model 'nyc-taxi-experiment'.\n"
     ]
    },
    {
     "data": {
      "text/plain": [
       "<ModelVersion: aliases=[], creation_timestamp=1720960873010, current_stage='None', description=None, last_updated_timestamp=1720960873010, name='nyc-taxi-experiment', run_id='c3464e4091ec4b68a2709351b256d00c', run_link=None, source='mlflow-artifacts:/1/c3464e4091ec4b68a2709351b256d00c/artifacts/model', status='READY', status_message=None, tags={}, user_id=None, version=3>"
      ]
     },
     "execution_count": 7,
     "metadata": {},
     "output_type": "execute_result"
    }
   ],
   "source": [
    "run_id = \"c3464e4091ec4b68a2709351b256d00c\"\n",
    "model_uri = f\"runs:/{run_id}/model\"\n",
    "mlflow.register_model(model_uri=model_uri,name=\"nyc-taxi-experiment\")"
   ]
  },
  {
   "cell_type": "code",
   "execution_count": 8,
   "id": "4eb09cbd",
   "metadata": {},
   "outputs": [
    {
     "name": "stdout",
     "output_type": "stream",
     "text": [
      "Model name: nyc-taxi-experiment\n",
      " - Version: 2, Status: Staging\n",
      " - Version: 3, Status: None\n"
     ]
    }
   ],
   "source": [
    "# Get the list of registered models\n",
    "models = client.search_registered_models()\n",
    "for model in models:\n",
    "    print(f\"Model name: {model.name}\")\n",
    "    for version in model.latest_versions:\n",
    "        print(f\" - Version: {version.version}, Status: {version.current_stage}\")\n"
   ]
  },
  {
   "cell_type": "code",
   "execution_count": 9,
   "id": "29040ba7",
   "metadata": {},
   "outputs": [
    {
     "data": {
      "text/plain": [
       "[<RegisteredModel: aliases={}, creation_timestamp=1720960650645, description='', last_updated_timestamp=1720960873010, latest_versions=[<ModelVersion: aliases=[], creation_timestamp=1720960659739, current_stage='Staging', description='', last_updated_timestamp=1720960701922, name='nyc-taxi-experiment', run_id='19dda245c7df4764aad5f2456fd89e9a', run_link='', source='mlflow-artifacts:/1/19dda245c7df4764aad5f2456fd89e9a/artifacts/modles_mlflow', status='READY', status_message=None, tags={}, user_id=None, version=2>,\n",
       "  <ModelVersion: aliases=[], creation_timestamp=1720960873010, current_stage='None', description=None, last_updated_timestamp=1720960873010, name='nyc-taxi-experiment', run_id='c3464e4091ec4b68a2709351b256d00c', run_link=None, source='mlflow-artifacts:/1/c3464e4091ec4b68a2709351b256d00c/artifacts/model', status='READY', status_message=None, tags={}, user_id=None, version=3>], name='nyc-taxi-experiment', tags={}>]"
      ]
     },
     "execution_count": 9,
     "metadata": {},
     "output_type": "execute_result"
    }
   ],
   "source": [
    "client.search_registered_models()"
   ]
  },
  {
   "cell_type": "code",
   "execution_count": 10,
   "id": "1df4f4c3",
   "metadata": {},
   "outputs": [
    {
     "name": "stdout",
     "output_type": "stream",
     "text": [
      "Model 'nyc-taxi-experiment' version '3' has been transitioned to stage 'Staging'.\n"
     ]
    },
    {
     "name": "stderr",
     "output_type": "stream",
     "text": [
      "/tmp/ipykernel_93444/804856691.py:7: FutureWarning: ``mlflow.tracking.client.MlflowClient.transition_model_version_stage`` is deprecated since 2.9.0. Model registry stages will be removed in a future major release. To learn more about the deprecation of model registry stages, see our migration guide here: https://mlflow.org/docs/latest/model-registry.html#migrating-from-stages\n",
      "  client.transition_model_version_stage(\n"
     ]
    }
   ],
   "source": [
    "# Parameters for the model version to be transitioned\n",
    "model_name = \"nyc-taxi-experiment\"\n",
    "model_version = \"3\"\n",
    "new_stage = \"Staging\"  # Example stages: \"None\", \"Staging\", \"Production\", \"Archived\"\n",
    "\n",
    "# Update the model version stage\n",
    "client.transition_model_version_stage(\n",
    "    name=model_name,\n",
    "    version=model_version,\n",
    "    stage=new_stage,\n",
    "    archive_existing_versions=False\n",
    ")\n",
    "\n",
    "print(f\"Model '{model_name}' version '{model_version}' has been transitioned to stage '{new_stage}'.\")"
   ]
  },
  {
   "cell_type": "code",
   "execution_count": 11,
   "id": "adb899aa",
   "metadata": {},
   "outputs": [
    {
     "data": {
      "text/plain": [
       "<ModelVersion: aliases=[], creation_timestamp=1720960873010, current_stage='Staging', description='The Model Version 3 was transitioned to Staging on 2024-07-14', last_updated_timestamp=1720960933906, name='nyc-taxi-experiment', run_id='c3464e4091ec4b68a2709351b256d00c', run_link=None, source='mlflow-artifacts:/1/c3464e4091ec4b68a2709351b256d00c/artifacts/model', status='READY', status_message=None, tags={}, user_id=None, version=3>"
      ]
     },
     "execution_count": 11,
     "metadata": {},
     "output_type": "execute_result"
    }
   ],
   "source": [
    "# update the Description of the model\n",
    "\n",
    "import datetime\n",
    "\n",
    "date = datetime.date.today()\n",
    "\n",
    "# Parameters for the model version to be transitioned\n",
    "model_name = \"nyc-taxi-experiment\"\n",
    "model_version = \"3\"\n",
    "new_stage = \"Staging\"  # Example stages: \"None\", \"Staging\", \"Production\", \"Archived\"\n",
    "\n",
    "# Update the model version stage\n",
    "client.update_model_version(\n",
    "    name=model_name,\n",
    "    version=model_version,\n",
    "    description=f\"The Model Version {model_version} was transitioned to {new_stage} on {date}\"\n",
    ")\n"
   ]
  },
  {
   "cell_type": "markdown",
   "id": "bfb528ac",
   "metadata": {},
   "source": [
    "## Comparing versions and selecting the new \"Production\" model\n",
    "In the last section, we will retrieve models registered in the model registry and compare their performance on an unseen test set. The idea is to simulate the scenario in which a deployment engineer has to interact with the model registry to decide whether to update the model version that is in production or not.\n",
    "\n",
    "These are the steps:\n",
    "\n",
    "1. Load the test dataset, which corresponds to the NYC Green Taxi data from the month of March 2021.\n",
    "2. Download the DictVectorizer that was fitted using the training data and saved to MLflow as an artifact, and load it with pickle.\n",
    "3. Preprocess the test set using the DictVectorizer so we can properly feed the regressors.\n",
    "4. Make predictions on the test set using the model versions that are currently in the \"Staging\" and \"Production\" stages, and compare their performance.\n",
    "5. Based on the results, update the \"Production\" model version accordingly.\n",
    "\n",
    "*Note*: the model registry doesn't actually deploy the model to production when you transition a model to the \"Production\" stage, it just assign a label to that model version. You should complement the registry with some CI/CD code that does the actual deployment."
   ]
  },
  {
   "cell_type": "code",
   "execution_count": 33,
   "id": "eca25529",
   "metadata": {},
   "outputs": [],
   "source": [
    "from sklearn.metrics import mean_squared_error\n",
    "import pandas as pd\n",
    "\n",
    "\n",
    "def read_dataframe(filename):\n",
    "    df = pd.read_parquet(filename)\n",
    "\n",
    "#     df.lpep_dropoff_datetime = pd.to_datetime(df.lpep_dropoff_datetime)\n",
    "#     df.lpep_pickup_datetime = pd.to_datetime(df.lpep_pickup_datetime)\n",
    "\n",
    "    df['duration'] = df.lpep_dropoff_datetime - df.lpep_pickup_datetime\n",
    "    df.duration = df.duration.apply(lambda td: td.total_seconds() / 60)\n",
    "\n",
    "    df = df[(df.duration >= 1) & (df.duration <= 60)]\n",
    "\n",
    "    categorical = ['PULocationID', 'DOLocationID']\n",
    "    df[categorical] = df[categorical].astype(str)\n",
    "    \n",
    "    return df\n",
    "\n",
    "\n",
    "def preprocess(df, dv):\n",
    "    df['PU_DO'] = df['PULocationID'] + '_' + df['DOLocationID']\n",
    "    categorical = ['PU_DO']\n",
    "    numerical = ['trip_distance']\n",
    "    train_dicts = df[categorical + numerical].to_dict(orient='records')\n",
    "    return dv.transform(train_dicts)\n",
    "\n",
    "\n",
    "def test_model(name, logged_model, X_test, y_test):\n",
    "    model = mlflow.pyfunc.load_model(logged_model)\n",
    "    y_pred = model.predict(X_test)\n",
    "    return {\"rmse\": mean_squared_error(y_test, y_pred, squared=False)}"
   ]
  },
  {
   "cell_type": "code",
   "execution_count": 13,
   "id": "564f87b9",
   "metadata": {},
   "outputs": [],
   "source": [
    "df = read_dataframe(\"data/green_tripdata_2021-03.parquet\")"
   ]
  },
  {
   "cell_type": "code",
   "execution_count": 20,
   "id": "24d050aa",
   "metadata": {},
   "outputs": [
    {
     "data": {
      "application/vnd.jupyter.widget-view+json": {
       "model_id": "217db0886e82419e8a257ebe9500b22e",
       "version_major": 2,
       "version_minor": 0
      },
      "text/plain": [
       "Downloading artifacts:   0%|          | 0/1 [00:00<?, ?it/s]"
      ]
     },
     "metadata": {},
     "output_type": "display_data"
    },
    {
     "data": {
      "text/plain": [
       "'/workspaces/Mlops-zoomcamp/2. Experiment tracking and model management/preprocessor'"
      ]
     },
     "execution_count": 20,
     "metadata": {},
     "output_type": "execute_result"
    }
   ],
   "source": [
    "client.download_artifacts(run_id=run_id, path='preprocessor', dst_path='.')"
   ]
  },
  {
   "cell_type": "code",
   "execution_count": 23,
   "id": "4bb515de",
   "metadata": {},
   "outputs": [],
   "source": [
    "import pickle\n",
    "\n",
    "with open(\"preprocessor/preprocessor.b\", \"rb\") as f_in:\n",
    "    dv = pickle.load(f_in)"
   ]
  },
  {
   "cell_type": "code",
   "execution_count": 24,
   "id": "484b8abe",
   "metadata": {},
   "outputs": [],
   "source": [
    "X_test = preprocess(df, dv)"
   ]
  },
  {
   "cell_type": "code",
   "execution_count": 25,
   "id": "4ee2610a-d6b9-4fbb-8f3e-920216ca980f",
   "metadata": {},
   "outputs": [],
   "source": [
    "target = \"duration\"\n",
    "y_test = df[target].values"
   ]
  },
  {
   "cell_type": "code",
   "execution_count": 34,
   "id": "1ba33069-a8a7-4353-b6af-237cdb9573d5",
   "metadata": {},
   "outputs": [
    {
     "data": {
      "application/vnd.jupyter.widget-view+json": {
       "model_id": "7a1da0eabe774d638eb88ea726387c27",
       "version_major": 2,
       "version_minor": 0
      },
      "text/plain": [
       "Downloading artifacts:   0%|          | 0/5 [00:00<?, ?it/s]"
      ]
     },
     "metadata": {},
     "output_type": "display_data"
    },
    {
     "name": "stdout",
     "output_type": "stream",
     "text": [
      "CPU times: user 13 s, sys: 118 ms, total: 13.1 s\n",
      "Wall time: 7.34 s\n"
     ]
    },
    {
     "name": "stderr",
     "output_type": "stream",
     "text": [
      "/home/codespace/anaconda3/envs/exp-tracking/lib/python3.9/site-packages/sklearn/metrics/_regression.py:492: FutureWarning: 'squared' is deprecated in version 1.4 and will be removed in 1.6. To calculate the root mean squared error, use the function'root_mean_squared_error'.\n",
      "  warnings.warn(\n"
     ]
    },
    {
     "data": {
      "text/plain": [
       "{'rmse': 6.257742755585545}"
      ]
     },
     "execution_count": 34,
     "metadata": {},
     "output_type": "execute_result"
    }
   ],
   "source": [
    "logged_model = 'runs:/837733a73ab040faaa4ecff356fc5283/modles_mlflow'\n",
    "\n",
    "%time test_model(name=model_name, logged_model=logged_model, X_test=X_test, y_test=y_test)"
   ]
  },
  {
   "cell_type": "code",
   "execution_count": 35,
   "id": "b4290cad-9566-4b98-9281-9b1400686082",
   "metadata": {},
   "outputs": [
    {
     "data": {
      "application/vnd.jupyter.widget-view+json": {
       "model_id": "7bda5b5fc4814ad795272f4c225be7d9",
       "version_major": 2,
       "version_minor": 0
      },
      "text/plain": [
       "Downloading artifacts:   0%|          | 0/5 [00:00<?, ?it/s]"
      ]
     },
     "metadata": {},
     "output_type": "display_data"
    },
    {
     "name": "stdout",
     "output_type": "stream",
     "text": [
      "CPU times: user 8.56 s, sys: 2.53 s, total: 11.1 s\n",
      "Wall time: 16.6 s\n"
     ]
    },
    {
     "name": "stderr",
     "output_type": "stream",
     "text": [
      "/home/codespace/anaconda3/envs/exp-tracking/lib/python3.9/site-packages/sklearn/metrics/_regression.py:492: FutureWarning: 'squared' is deprecated in version 1.4 and will be removed in 1.6. To calculate the root mean squared error, use the function'root_mean_squared_error'.\n",
      "  warnings.warn(\n"
     ]
    },
    {
     "data": {
      "text/plain": [
       "{'rmse': 6.880226863989569}"
      ]
     },
     "execution_count": 35,
     "metadata": {},
     "output_type": "execute_result"
    }
   ],
   "source": [
    "logged_model = 'runs:/c3464e4091ec4b68a2709351b256d00c/modles_mlflow'\n",
    "\n",
    "%time test_model(name=model_name, logged_model=logged_model, X_test=X_test, y_test=y_test)"
   ]
  },
  {
   "cell_type": "code",
   "execution_count": null,
   "id": "4ee49531-babf-4f7e-854d-9958ebabe2bc",
   "metadata": {},
   "outputs": [],
   "source": [
    "# We can clearly see above still our Production model is better than staging model so we didn't need to migrate to Production.\n",
    "\n",
    "client.transition_model_version_stage(\n",
    "    name=model_name,\n",
    "    version=3,\n",
    "    stage=\"Production\",\n",
    "    archive_existing_versions=True\n",
    ")"
   ]
  }
 ],
 "metadata": {
  "kernelspec": {
   "display_name": "Python 3 (ipykernel)",
   "language": "python",
   "name": "python3"
  },
  "language_info": {
   "codemirror_mode": {
    "name": "ipython",
    "version": 3
   },
   "file_extension": ".py",
   "mimetype": "text/x-python",
   "name": "python",
   "nbconvert_exporter": "python",
   "pygments_lexer": "ipython3",
   "version": "3.9.19"
  }
 },
 "nbformat": 4,
 "nbformat_minor": 5
}
