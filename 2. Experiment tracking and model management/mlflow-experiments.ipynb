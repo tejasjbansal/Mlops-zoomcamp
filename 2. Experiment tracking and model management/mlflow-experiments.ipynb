{
 "cells": [
  {
   "cell_type": "markdown",
   "id": "07233daa",
   "metadata": {},
   "source": [
    "## Interacting with the MLflow tracking server\n",
    "The MlflowClient object allows us to interact with...\n",
    "\n",
    "an MLflow Tracking Server that creates and manages experiments and runs.\n",
    "an MLflow Registry Server that creates and manages registered models and model versions.\n",
    "To instantiate it we need to pass a tracking URI and/or a registry URI"
   ]
  },
  {
   "cell_type": "code",
   "execution_count": 17,
   "id": "131239f2",
   "metadata": {},
   "outputs": [],
   "source": [
    "from mlflow.tracking import MlflowClient\n",
    "\n",
    "mlflow_tracking_uri = \"sqlite:///mlflow.db\"\n",
    "\n",
    "client = MlflowClient(tracking_uri=mlflow_tracking_uri)"
   ]
  },
  {
   "cell_type": "code",
   "execution_count": 20,
   "id": "4484335b",
   "metadata": {},
   "outputs": [
    {
     "data": {
      "text/plain": [
       "'sqlite:///mlflow.db'"
      ]
     },
     "execution_count": 20,
     "metadata": {},
     "output_type": "execute_result"
    }
   ],
   "source": [
    "client.tracking_uri"
   ]
  },
  {
   "cell_type": "code",
   "execution_count": 28,
   "id": "867f29d5",
   "metadata": {},
   "outputs": [
    {
     "data": {
      "text/plain": [
       "[<Experiment: artifact_location=('/workspaces/Mlops-zoomcamp/2. Experiment tracking and model '\n",
       "  'management/mlruns/1'), creation_time=1720894759584, experiment_id='1', last_update_time=1720894759584, lifecycle_stage='active', name='nyc-taxi-experiment', tags={}>,\n",
       " <Experiment: artifact_location='mlflow-artifacts:/0', creation_time=1720894457871, experiment_id='0', last_update_time=1720894457871, lifecycle_stage='active', name='Default', tags={}>]"
      ]
     },
     "execution_count": 28,
     "metadata": {},
     "output_type": "execute_result"
    }
   ],
   "source": [
    "client.search_experiments()"
   ]
  },
  {
   "cell_type": "code",
   "execution_count": 31,
   "id": "cb333184",
   "metadata": {},
   "outputs": [],
   "source": [
    "from mlflow.entities import ViewType\n",
    "\n",
    "runs = client.search_runs(\n",
    "    experiment_ids=1,\n",
    "    filter_string=\"\",\n",
    "    run_view_type =ViewType.ACTIVE_ONLY ,\n",
    "    max_results = 5,\n",
    "    order_by=[\"metrics.rmse ASC\"]\n",
    "    \n",
    ")"
   ]
  },
  {
   "cell_type": "code",
   "execution_count": 33,
   "id": "3433933e",
   "metadata": {},
   "outputs": [
    {
     "name": "stdout",
     "output_type": "stream",
     "text": [
      "run id : 1e89981de3264168867d9ebe1cef0419,rmse :5.1187 \n",
      "run id : 0d76a399a6284ef2bd4087425d370544,rmse :5.1187 \n",
      "run id : 3e316bf936604dbf9ad6f48b0d79b863,rmse :5.1305 \n",
      "run id : b921b7f28d54411aa56e752c87927ab3,rmse :5.1399 \n",
      "run id : 17e74ba9e0ac4173b310f32d6511fc37,rmse :5.1429 \n"
     ]
    }
   ],
   "source": [
    "for run in runs:\n",
    "    print(f\"run id : {run.info.run_id},rmse :{run.data.metrics['rmse']:.4f} \")"
   ]
  },
  {
   "cell_type": "markdown",
   "id": "984a6595",
   "metadata": {},
   "source": [
    "## Interacting with the Model Registry\n",
    "In this section We will use the MlflowClient instance to:\n",
    "\n",
    "Register a new version for the experiment nyc-taxi-regressor\n",
    "Retrieve the latests versions of the model nyc-taxi-regressor and check that a new version 3 was created.\n",
    "Transition the version 3 to \"Staging\" and adding annotations to it."
   ]
  },
  {
   "cell_type": "code",
   "execution_count": 34,
   "id": "b2e7e600",
   "metadata": {},
   "outputs": [
    {
     "data": {
      "text/plain": [
       "<Experiment: artifact_location=('/workspaces/Mlops-zoomcamp/2. Experiment tracking and model '\n",
       " 'management/mlruns/1'), creation_time=1720894759584, experiment_id='1', last_update_time=1720894759584, lifecycle_stage='active', name='nyc-taxi-experiment', tags={}>"
      ]
     },
     "execution_count": 34,
     "metadata": {},
     "output_type": "execute_result"
    }
   ],
   "source": [
    "import mlflow\n",
    "\n",
    "mlflow.set_tracking_uri(\"sqlite:///mlflow.db\")\n",
    "mlflow.set_experiment(\"nyc-taxi-experiment\")"
   ]
  },
  {
   "cell_type": "code",
   "execution_count": 36,
   "id": "3b5219a9",
   "metadata": {},
   "outputs": [
    {
     "name": "stderr",
     "output_type": "stream",
     "text": [
      "Registered model 'nyc-taxi-regressor' already exists. Creating a new version of this model...\n",
      "Created version '3' of model 'nyc-taxi-regressor'.\n"
     ]
    },
    {
     "data": {
      "text/plain": [
       "<ModelVersion: aliases=[], creation_timestamp=1720942727228, current_stage='None', description=None, last_updated_timestamp=1720942727228, name='nyc-taxi-regressor', run_id='bbb2596bf535457da2c053c82e10632b', run_link=None, source=('/workspaces/Mlops-zoomcamp/2. Experiment tracking and model '\n",
       " 'management/mlruns/1/bbb2596bf535457da2c053c82e10632b/artifacts/model'), status='READY', status_message=None, tags={}, user_id=None, version=3>"
      ]
     },
     "execution_count": 36,
     "metadata": {},
     "output_type": "execute_result"
    }
   ],
   "source": [
    "run_id = \"bbb2596bf535457da2c053c82e10632b\"\n",
    "model_uri = f\"runs:/{run_id}/model\"\n",
    "mlflow.register_model(model_uri=model_uri,name=\"nyc-taxi-regressor\")"
   ]
  },
  {
   "cell_type": "code",
   "execution_count": 52,
   "id": "4eb09cbd",
   "metadata": {},
   "outputs": [
    {
     "name": "stdout",
     "output_type": "stream",
     "text": [
      "Model name: nyc-taxi-regressor\n",
      " - Version: 3, Status: Staging\n"
     ]
    }
   ],
   "source": [
    "# Get the list of registered models\n",
    "models = client.search_registered_models()\n",
    "for model in models:\n",
    "    print(f\"Model name: {model.name}\")\n",
    "    for version in model.latest_versions:\n",
    "        print(f\" - Version: {version.version}, Status: {version.current_stage}\")\n"
   ]
  },
  {
   "cell_type": "code",
   "execution_count": 45,
   "id": "29040ba7",
   "metadata": {},
   "outputs": [
    {
     "data": {
      "text/plain": [
       "[<RegisteredModel: aliases={}, creation_timestamp=1720939547558, description='The NYC Taxi Predictor to Trip Duration', last_updated_timestamp=1720942727228, latest_versions=[<ModelVersion: aliases=[], creation_timestamp=1720942727228, current_stage='None', description=None, last_updated_timestamp=1720942727228, name='nyc-taxi-regressor', run_id='bbb2596bf535457da2c053c82e10632b', run_link=None, source=('/workspaces/Mlops-zoomcamp/2. Experiment tracking and model '\n",
       "  'management/mlruns/1/bbb2596bf535457da2c053c82e10632b/artifacts/model'), status='READY', status_message=None, tags={}, user_id=None, version=3>], name='nyc-taxi-regressor', tags={}>]"
      ]
     },
     "execution_count": 45,
     "metadata": {},
     "output_type": "execute_result"
    }
   ],
   "source": [
    "client.search_registered_models()"
   ]
  },
  {
   "cell_type": "code",
   "execution_count": 51,
   "id": "1df4f4c3",
   "metadata": {},
   "outputs": [
    {
     "name": "stdout",
     "output_type": "stream",
     "text": [
      "Model 'nyc-taxi-regressor' version '3' has been transitioned to stage 'Staging'.\n"
     ]
    },
    {
     "name": "stderr",
     "output_type": "stream",
     "text": [
      "/tmp/ipykernel_13609/3599651092.py:7: FutureWarning: ``mlflow.tracking.client.MlflowClient.transition_model_version_stage`` is deprecated since 2.9.0. Model registry stages will be removed in a future major release. To learn more about the deprecation of model registry stages, see our migration guide here: https://mlflow.org/docs/latest/model-registry.html#migrating-from-stages\n",
      "  client.transition_model_version_stage(\n"
     ]
    }
   ],
   "source": [
    "# Parameters for the model version to be transitioned\n",
    "model_name = \"nyc-taxi-regressor\"\n",
    "model_version = \"3\"\n",
    "new_stage = \"Staging\"  # Example stages: \"None\", \"Staging\", \"Production\", \"Archived\"\n",
    "\n",
    "# Update the model version stage\n",
    "client.transition_model_version_stage(\n",
    "    name=model_name,\n",
    "    version=model_version,\n",
    "    stage=new_stage,\n",
    "    archive_existing_versions=False\n",
    ")\n",
    "\n",
    "print(f\"Model '{model_name}' version '{model_version}' has been transitioned to stage '{new_stage}'.\")"
   ]
  },
  {
   "cell_type": "code",
   "execution_count": 54,
   "id": "adb899aa",
   "metadata": {},
   "outputs": [
    {
     "data": {
      "text/plain": [
       "<ModelVersion: aliases=[], creation_timestamp=1720942727228, current_stage='Staging', description='The Model Version 3 was transitioned to Staging on 2024-07-14', last_updated_timestamp=1720944236113, name='nyc-taxi-regressor', run_id='bbb2596bf535457da2c053c82e10632b', run_link=None, source=('/workspaces/Mlops-zoomcamp/2. Experiment tracking and model '\n",
       " 'management/mlruns/1/bbb2596bf535457da2c053c82e10632b/artifacts/model'), status='READY', status_message=None, tags={}, user_id=None, version=3>"
      ]
     },
     "execution_count": 54,
     "metadata": {},
     "output_type": "execute_result"
    }
   ],
   "source": [
    "# update the Description of the model\n",
    "\n",
    "import datetime\n",
    "\n",
    "date = datetime.date.today()\n",
    "\n",
    "# Parameters for the model version to be transitioned\n",
    "model_name = \"nyc-taxi-regressor\"\n",
    "model_version = \"3\"\n",
    "new_stage = \"Staging\"  # Example stages: \"None\", \"Staging\", \"Production\", \"Archived\"\n",
    "\n",
    "# Update the model version stage\n",
    "client.update_model_version(\n",
    "    name=model_name,\n",
    "    version=model_version,\n",
    "    description=f\"The Model Version {model_version} was transitioned to {new_stage} on {date}\"\n",
    ")\n"
   ]
  },
  {
   "cell_type": "markdown",
   "id": "bfb528ac",
   "metadata": {},
   "source": [
    "## Comparing versions and selecting the new \"Production\" model\n",
    "In the last section, we will retrieve models registered in the model registry and compare their performance on an unseen test set. The idea is to simulate the scenario in which a deployment engineer has to interact with the model registry to decide whether to update the model version that is in production or not.\n",
    "\n",
    "These are the steps:\n",
    "\n",
    "1. Load the test dataset, which corresponds to the NYC Green Taxi data from the month of March 2021.\n",
    "2. Download the DictVectorizer that was fitted using the training data and saved to MLflow as an artifact, and load it with pickle.\n",
    "3. Preprocess the test set using the DictVectorizer so we can properly feed the regressors.\n",
    "4. Make predictions on the test set using the model versions that are currently in the \"Staging\" and \"Production\" stages, and compare their performance.\n",
    "5. Based on the results, update the \"Production\" model version accordingly.\n",
    "\n",
    "*Note*: the model registry doesn't actually deploy the model to production when you transition a model to the \"Production\" stage, it just assign a label to that model version. You should complement the registry with some CI/CD code that does the actual deployment."
   ]
  },
  {
   "cell_type": "code",
   "execution_count": 56,
   "id": "eca25529",
   "metadata": {},
   "outputs": [],
   "source": [
    "from sklearn.metrics import mean_squared_error\n",
    "import pandas as pd\n",
    "\n",
    "\n",
    "def read_dataframe(filename):\n",
    "    df = pd.read_parquet(filename)\n",
    "\n",
    "#     df.lpep_dropoff_datetime = pd.to_datetime(df.lpep_dropoff_datetime)\n",
    "#     df.lpep_pickup_datetime = pd.to_datetime(df.lpep_pickup_datetime)\n",
    "\n",
    "    df['duration'] = df.lpep_dropoff_datetime - df.lpep_pickup_datetime\n",
    "    df.duration = df.duration.apply(lambda td: td.total_seconds() / 60)\n",
    "\n",
    "    df = df[(df.duration >= 1) & (df.duration <= 60)]\n",
    "\n",
    "    categorical = ['PULocationID', 'DOLocationID']\n",
    "    df[categorical] = df[categorical].astype(str)\n",
    "    \n",
    "    return df\n",
    "\n",
    "\n",
    "def preprocess(df, dv):\n",
    "    df['PU_DO'] = df['PULocationID'] + '_' + df['DOLocationID']\n",
    "    categorical = ['PU_DO']\n",
    "    numerical = ['trip_distance']\n",
    "    train_dicts = df[categorical + numerical].to_dict(orient='records')\n",
    "    return dv.transform(train_dicts)\n",
    "\n",
    "\n",
    "def test_model(name, stage, X_test, y_test):\n",
    "    model = mlflow.pyfunc.load_model(f\"models:/{name}/{stage}\")\n",
    "    y_pred = model.predict(X_test)\n",
    "    return {\"rmse\": mean_squared_error(y_test, y_pred, squared=False)}"
   ]
  },
  {
   "cell_type": "code",
   "execution_count": 57,
   "id": "564f87b9",
   "metadata": {},
   "outputs": [],
   "source": [
    "df = read_dataframe(\"data/green_tripdata_2021-01.parquet\")"
   ]
  },
  {
   "cell_type": "code",
   "execution_count": 62,
   "id": "24d050aa",
   "metadata": {},
   "outputs": [
    {
     "data": {
      "application/vnd.jupyter.widget-view+json": {
       "model_id": "123cd61a407842b0a491c17a5c628255",
       "version_major": 2,
       "version_minor": 0
      },
      "text/plain": [
       "Downloading artifacts:   0%|          | 0/1 [00:00<?, ?it/s]"
      ]
     },
     "metadata": {},
     "output_type": "display_data"
    },
    {
     "data": {
      "text/plain": [
       "'/workspaces/Mlops-zoomcamp/2. Experiment tracking and model management/prerocessor'"
      ]
     },
     "execution_count": 62,
     "metadata": {},
     "output_type": "execute_result"
    }
   ],
   "source": [
    "client.download_artifacts(run_id=run_id, path='prerocessor', dst_path='.')"
   ]
  },
  {
   "cell_type": "code",
   "execution_count": 64,
   "id": "4bb515de",
   "metadata": {},
   "outputs": [
    {
     "ename": "EOFError",
     "evalue": "Ran out of input",
     "output_type": "error",
     "traceback": [
      "\u001b[0;31m---------------------------------------------------------------------------\u001b[0m",
      "\u001b[0;31mEOFError\u001b[0m                                  Traceback (most recent call last)",
      "Input \u001b[0;32mIn [64]\u001b[0m, in \u001b[0;36m<cell line: 3>\u001b[0;34m()\u001b[0m\n\u001b[1;32m      1\u001b[0m \u001b[38;5;28;01mimport\u001b[39;00m \u001b[38;5;21;01mpickle\u001b[39;00m\n\u001b[1;32m      3\u001b[0m \u001b[38;5;28;01mwith\u001b[39;00m \u001b[38;5;28mopen\u001b[39m(\u001b[38;5;124m\"\u001b[39m\u001b[38;5;124mprerocessor/preprocessor.b\u001b[39m\u001b[38;5;124m\"\u001b[39m, \u001b[38;5;124m\"\u001b[39m\u001b[38;5;124mrb\u001b[39m\u001b[38;5;124m\"\u001b[39m) \u001b[38;5;28;01mas\u001b[39;00m f_in:\n\u001b[0;32m----> 4\u001b[0m     dv \u001b[38;5;241m=\u001b[39m \u001b[43mpickle\u001b[49m\u001b[38;5;241;43m.\u001b[39;49m\u001b[43mload\u001b[49m\u001b[43m(\u001b[49m\u001b[43mf_in\u001b[49m\u001b[43m)\u001b[49m\n",
      "\u001b[0;31mEOFError\u001b[0m: Ran out of input"
     ]
    }
   ],
   "source": [
    "import pickle\n",
    "\n",
    "with open(\"prerocessor/preprocessor.b\", \"rb\") as f_in:\n",
    "    dv = pickle.load(f_in)"
   ]
  },
  {
   "cell_type": "code",
   "execution_count": null,
   "id": "484b8abe",
   "metadata": {},
   "outputs": [],
   "source": []
  }
 ],
 "metadata": {
  "kernelspec": {
   "display_name": "Python 3 (ipykernel)",
   "language": "python",
   "name": "python3"
  },
  "language_info": {
   "codemirror_mode": {
    "name": "ipython",
    "version": 3
   },
   "file_extension": ".py",
   "mimetype": "text/x-python",
   "name": "python",
   "nbconvert_exporter": "python",
   "pygments_lexer": "ipython3",
   "version": "3.9.12"
  }
 },
 "nbformat": 4,
 "nbformat_minor": 5
}
